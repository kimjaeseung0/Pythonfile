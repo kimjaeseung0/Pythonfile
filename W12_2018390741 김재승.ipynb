{
 "cells": [
  {
   "cell_type": "code",
   "execution_count": 1,
   "metadata": {},
   "outputs": [
    {
     "data": {
      "image/png": "[encoded data removed]",
      "text/plain": [
       "<Figure size 576x360 with 1 Axes>"
      ]
     },
     "metadata": {
      "needs_background": "light"
     },
     "output_type": "display_data"
    },
    {
     "name": "stdout",
     "output_type": "stream",
     "text": [
      "그룹별 전환율:\n",
      "group\n",
      "control      0.120399\n",
      "treatment    0.118918\n",
      "Name: converted, dtype: float64\n",
      "\n",
      "그룹별 전환 수, 샘플 수, 신뢰구간:\n",
      "             sum   count  Lower CI  Upper CI\n",
      "group                                       \n",
      "control    17723  147202  0.118737  0.122062\n",
      "treatment  17514  147278  0.117265  0.120571\n"
     ]
    }
   ],
   "source": [
    "import pandas as pd\n",
    "import matplotlib.pyplot as plt\n",
    "from statsmodels.stats.proportion import proportion_confint\n",
    "\n",
    "# 1. 데이터 불러오기\n",
    "data = pd.read_csv(\"C:/2024_2/ab_data.csv\")\n",
    "\n",
    "# 2. 그룹별 전환율 계산\n",
    "group_conversion = data.groupby('group')['converted'].mean()\n",
    "\n",
    "# 3. 시각화\n",
    "plt.figure(figsize=(8, 5))\n",
    "group_conversion.plot(kind='bar', color=['skyblue', 'orange'], alpha=0.8, edgecolor='black')\n",
    "plt.title('Conversion Rate by Group', fontsize=14)\n",
    "plt.ylabel('Conversion Rate', fontsize=12)\n",
    "plt.xlabel('Group', fontsize=12)\n",
    "plt.xticks(rotation=0)\n",
    "plt.ylim(0, 0.2)\n",
    "plt.grid(axis='y', linestyle='--', alpha=0.7)\n",
    "plt.show()\n",
    "\n",
    "# 4. 그룹별 전환 수와 샘플 수 계산\n",
    "group_counts = data.groupby('group')['converted'].agg(['sum', 'count'])\n",
    "\n",
    "# 5. 신뢰구간 계산 (95% 신뢰 수준)\n",
    "conf_intervals = group_counts.apply(\n",
    "    lambda row: proportion_confint(count=row['sum'], nobs=row['count'], alpha=0.05), axis=1\n",
    ")\n",
    "conf_intervals = pd.DataFrame(conf_intervals.tolist(), index=group_counts.index, columns=['Lower CI', 'Upper CI'])\n",
    "\n",
    "# 6. 결과 정리\n",
    "result = pd.concat([group_counts, conf_intervals], axis=1)\n",
    "\n",
    "# 7. 결과 출력\n",
    "print(\"그룹별 전환율:\")\n",
    "print(group_conversion)\n",
    "print(\"\\n그룹별 전환 수, 샘플 수, 신뢰구간:\")\n",
    "print(result)\n"
   ]
  },
  {
   "cell_type": "code",
   "execution_count": 2,
   "metadata": {},
   "outputs": [
    {
     "name": "stdout",
     "output_type": "stream",
     "text": [
      "T-검정 결과: t-stat=1.209066628131995, p-value=0.22663823265028002\n",
      "새 페이지와 기존 페이지 간의 전환율 차이가 통계적으로 유의미하지 않습니다.\n"
     ]
    }
   ],
   "source": [
    "import pandas as pd\n",
    "import scipy.stats as stats\n",
    "\n",
    "# 데이터 로드\n",
    "data = pd.read_csv(\"C:/2024_2/ab_data.csv\")\n",
    "\n",
    "# 중복 사용자 제거\n",
    "data = data.drop_duplicates(subset='user_id')\n",
    "\n",
    "# 그룹별 데이터 분리\n",
    "control = data[data['group'] == 'control']['converted']\n",
    "treatment = data[data['group'] == 'treatment']['converted']\n",
    "\n",
    "# 독립 t-검정 수행\n",
    "t_stat, p_value = stats.ttest_ind(control, treatment)\n",
    "\n",
    "# 결과 출력\n",
    "print(f\"T-검정 결과: t-stat={t_stat}, p-value={p_value}\")\n",
    "if p_value < 0.05:\n",
    "    print(\"새 페이지와 기존 페이지 간의 전환율 차이가 통계적으로 유의미합니다.\")\n",
    "else:\n",
    "    print(\"새 페이지와 기존 페이지 간의 전환율 차이가 통계적으로 유의미하지 않습니다.\")"
   ]
  },
  {
   "cell_type": "code",
   "execution_count": 3,
   "metadata": {},
   "outputs": [
    {
     "name": "stdout",
     "output_type": "stream",
     "text": [
      "카이제곱 검정 결과: chi2=1.8605356996475382, p-value=0.17256298557816563\n",
      "Landing Page와 전환율 사이에 유의미한 상관관계가 없습니다.\n"
     ]
    }
   ],
   "source": [
    "import pandas as pd\n",
    "from scipy.stats import chi2_contingency\n",
    "\n",
    "# 데이터 로드\n",
    "data = pd.read_csv(\"C:/2024_2/ab_data.csv\")\n",
    "\n",
    "\n",
    "# Landing_page와 Converted(1) 간의 교차표 생성\n",
    "contingency_table = pd.crosstab(data['landing_page'], data['converted'])\n",
    "\n",
    "# 카이제곱 검정 수행\n",
    "chi2, p, dof, expected = chi2_contingency(contingency_table)\n",
    "\n",
    "# 결과 출력\n",
    "print(f\"카이제곱 검정 결과: chi2={chi2}, p-value={p}\")\n",
    "if p < 0.05:\n",
    "    print(\"Landing Page와 전환율 사이에 유의미한 상관관계가 있습니다.\")\n",
    "else:\n",
    "    print(\"Landing Page와 전환율 사이에 유의미한 상관관계가 없습니다.\")"
   ]
  },
  {
   "cell_type": "code",
   "execution_count": 11,
   "metadata": {},
   "outputs": [
    {
     "name": "stdout",
     "output_type": "stream",
     "text": [
      "카이제곱 통계량: 2.6005890725064527\n",
      "p값: 0.45738628421843763\n",
      "\n",
      "결론: 유저 ID의 첫 자리에 따른 전환율 차이가 통계적으로 유의미하지 않습니다 (p >= 0.05).\n"
     ]
    }
   ],
   "source": [
    "import pandas as pd\n",
    "import scipy.stats as stats\n",
    "\n",
    "# 1. 데이터 불러오기\n",
    "data = pd.read_csv(\"C:/2024_2/ab_data.csv\")\n",
    "\n",
    "# 2. 유저 ID의 첫 자리 추출\n",
    "data['user_first_digit'] = data['user_id'].astype(str).str[0]\n",
    "\n",
    "# 3. 첫 자리에 따른 전환율 계산을 위한 분할표 생성\n",
    "contingency_table = pd.crosstab(data['user_first_digit'], data['converted'])\n",
    "\n",
    "# 4. 카이제곱 독립성 검정 수행\n",
    "chi2, p, dof, expected = stats.chi2_contingency(contingency_table)\n",
    "\n",
    "# 5. 결과 출력\n",
    "print(\"카이제곱 통계량:\", chi2)\n",
    "print(\"p값:\", p)\n",
    "\n",
    "# 6. 유의 수준 0.05로 가설 검정\n",
    "alpha = 0.05\n",
    "if p < alpha:\n",
    "    print(\"\\n결론: 유저 ID의 첫 자리에 따른 전환율 차이가 통계적으로 유의미합니다 (p < 0.05).\")\n",
    "else:\n",
    "    print(\"\\n결론: 유저 ID의 첫 자리에 따른 전환율 차이가 통계적으로 유의미하지 않습니다 (p >= 0.05).\")\n"
   ]
  },
  {
   "cell_type": "code",
   "execution_count": 12,
   "metadata": {},
   "outputs": [
    {
     "name": "stdout",
     "output_type": "stream",
     "text": [
      "카이제곱 통계량: 14.992629415627038\n",
      "p값: 0.09113863296435946\n",
      "\n",
      "결론: 유저 ID의 뒷 자리에 따른 전환율 차이가 통계적으로 유의미하지 않습니다 (p >= 0.05).\n"
     ]
    }
   ],
   "source": [
    "import pandas as pd\n",
    "import scipy.stats as stats\n",
    "\n",
    "# 1. 데이터 불러오기\n",
    "data = pd.read_csv(\"C:/2024_2/ab_data.csv\")\n",
    "\n",
    "# 2. 유저 ID의 첫 자리 추출\n",
    "data['user_first_digit'] = data['user_id'].astype(str).str[5]\n",
    "\n",
    "# 3. 첫 자리에 따른 전환율 계산을 위한 분할표 생성\n",
    "contingency_table = pd.crosstab(data['user_first_digit'], data['converted'])\n",
    "\n",
    "# 4. 카이제곱 독립성 검정 수행\n",
    "chi2, p, dof, expected = stats.chi2_contingency(contingency_table)\n",
    "\n",
    "# 5. 결과 출력\n",
    "print(\"카이제곱 통계량:\", chi2)\n",
    "print(\"p값:\", p)\n",
    "\n",
    "# 6. 유의 수준 0.05로 가설 검정\n",
    "alpha = 0.05\n",
    "if p < alpha:\n",
    "    print(\"\\n결론: 유저 ID의 뒷 자리에 따른 전환율 차이가 통계적으로 유의미합니다 (p < 0.05).\")\n",
    "else:\n",
    "    print(\"\\n결론: 유저 ID의 뒷 자리에 따른 전환율 차이가 통계적으로 유의미하지 않습니다 (p >= 0.05).\")"
   ]
  },
  {
   "cell_type": "code",
   "execution_count": null,
   "metadata": {},
   "outputs": [],
   "source": []
  }
 ],
 "metadata": {
  "kernelspec": {
   "display_name": "Python 3",
   "language": "python",
   "name": "python3"
  },
  "language_info": {
   "codemirror_mode": {
    "name": "ipython",
    "version": 3
   },
   "file_extension": ".py",
   "mimetype": "text/x-python",
   "name": "python",
   "nbconvert_exporter": "python",
   "pygments_lexer": "ipython3",
   "version": "3.7.6"
  }
 },
 "nbformat": 4,
 "nbformat_minor": 4
}
